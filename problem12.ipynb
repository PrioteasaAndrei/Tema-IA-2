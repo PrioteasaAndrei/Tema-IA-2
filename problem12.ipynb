{
 "cells": [
  {
   "cell_type": "code",
   "execution_count": 199,
   "metadata": {},
   "outputs": [],
   "source": [
    "import numpy as np\n",
    "import matplotlib.pyplot as plt\n",
    "from dataset import *\n",
    "from sklearn.linear_model import LinearRegression as LR"
   ]
  },
  {
   "cell_type": "code",
   "execution_count": 200,
   "metadata": {},
   "outputs": [
    {
     "name": "stdout",
     "output_type": "stream",
     "text": [
      "(160, 1)\n",
      "(160,)\n",
      "(229, 13)\n",
      "(229,)\n",
      "(58, 13)\n",
      "(58,)\n",
      "(300, 1) (300,)\n"
     ]
    }
   ],
   "source": [
    "X_simple,t_simple = simple_dataset(noise=10)\n",
    "\n",
    "division_ratio = 0.8\n",
    "split_point =int(division_ratio * len(X_simple)) \n",
    "\n",
    "X_train_simple = X_simple[:split_point]\n",
    "X_test_simple = X_simple[split_point:]\n",
    "\n",
    "t_train_simple = t_simple[:split_point]\n",
    "t_test_simple = t_simple[split_point:]\n",
    "\n",
    "\n",
    "X_complex,t_complex = remodel_complex_dataset()\n",
    "\n",
    "split_point =int(division_ratio * len(X_complex)) \n",
    "\n",
    "X_train_complex = X_complex[:split_point]\n",
    "X_test_complex = X_complex[split_point:]\n",
    "\n",
    "t_train_complex = t_complex[:split_point]\n",
    "t_test_complex = t_complex[split_point:]\n",
    "\n",
    "\n",
    "X_complex_default,t_complex_default = complex_dataset()\n",
    "# X_complex_default = np.reshape(X_complex_default,X_complex_default.shape[0])\n",
    "X_complex_default = X_complex_default[:,np.newaxis]\n",
    "\n",
    "split_point =int(division_ratio * len(X_complex_default))\n",
    "\n",
    "X_train_complex_default = X_complex_default[:split_point]\n",
    "X_test_complex_default = X_complex_default[split_point:]\n",
    "\n",
    "t_train_complex_default = t_complex_default[:split_point]\n",
    "t_test_complex_default = t_complex_default[split_point:]\n",
    "\n",
    "\n",
    "print(X_train_simple.shape)\n",
    "print(t_train_simple.shape)\n",
    "\n",
    "print(X_train_complex.shape)\n",
    "print(t_train_complex.shape)\n",
    "\n",
    "print(X_test_complex.shape)\n",
    "print(t_test_complex.shape)\n",
    "\n",
    "print(X_complex_default.shape,t_complex_default.shape)"
   ]
  },
  {
   "cell_type": "code",
   "execution_count": 201,
   "metadata": {},
   "outputs": [],
   "source": [
    "class LinearRegression(object):\n",
    "    \"\"\"\n",
    "    Modelul de Regresie Liniara\n",
    "    y = X @ w \n",
    "        - valoarea prezisă de model\n",
    "    t ~ N(t|X @ w, var) \n",
    "        - valorile de antrenare (target) sunt fac parte dintr-o distributie normala in jurul mean-ului X@w, \n",
    "          la care se adauga zgomot dat de varianta `var`\n",
    "    \"\"\"\n",
    "\n",
    "    def __init__(self, learning_rate=0.01, epochs=100000, eps=1e-6):\n",
    "        self.learning_rate = learning_rate\n",
    "        self.epochs = epochs\n",
    "        self.eps = eps\n",
    "        ## [(epoch,error)]\n",
    "        self.errors = []\n",
    "\n",
    "    def fit(self, X, t):\n",
    "        \"\"\"\n",
    "        Antrenarea modelului in sensul celor mai mici patrate (least squares fitting)\n",
    "        Parameterii\n",
    "        ----------\n",
    "        X : (N, D) np.ndarray\n",
    "            variabilele de intrare\n",
    "        t : (N,) np.ndarray\n",
    "            variabilele tinta (target / ground truth)\n",
    "        \"\"\"\n",
    "\n",
    "        N, D = X.shape\n",
    "        \n",
    "        self.w = np.zeros(D)\n",
    "        prev_w = self.w \n",
    "        prev_cost = self.cost(X,t)\n",
    "\n",
    "        for ep in range(self.epochs):\n",
    "            g = self.gradient(X,t)\n",
    "            step = self.learning_rate * g\n",
    "            self.w = self.w - step\n",
    "            \n",
    "            prev_cost = self.cost(X,t)\n",
    "\n",
    "            self.errors += [(ep,prev_cost)]\n",
    "\n",
    "            if np.linalg.norm(self.w - prev_w) < self.eps:\n",
    "                print(\"Tolerance broke for: \",self.w,prev_w)\n",
    "                break\n",
    "\n",
    "            prev_w = self.w\n",
    "\n",
    "        print(\"Done with all epochs\")\n",
    "\n",
    "        # return self\n",
    "\n",
    "    def predict(self, X, return_std=False):\n",
    "        \"\"\"\n",
    "        Intoarce valoari prezise de model pentru sample-uri X\n",
    "        Parametrii\n",
    "        ----------\n",
    "        X : (N, D) np.ndarray\n",
    "            sample-uri de valori D-dimensionale pentru care se doreste predictia valorii conform modelului\n",
    "        return_std : bool, optional\n",
    "            intoarce deviatia standard a fiecarei valori prezice, daca e setat pe True\n",
    "        \n",
    "        Intoarce\n",
    "        -------\n",
    "        y : (N,) np.ndarray\n",
    "            vector de valori prezise\n",
    "        y_std : (N,) np.ndarray\n",
    "            deviatia standard a fiecarei valori prezise\n",
    "        \"\"\"\n",
    "\n",
    "        N, D = X.shape\n",
    "\n",
    "        y = X @ self.w\n",
    "        # print(X.shape,y.shape,\"IN predict\")\n",
    "        \n",
    "        return y\n",
    "\n",
    "    \n",
    "    ## Not 1 / n \n",
    "    def cost(self,X,t,return_std=False):\n",
    "        y = self.predict(X,return_std)\n",
    "        loss = (y - t) ** 2\n",
    "        # return 0.5 * loss\n",
    "        return np.mean(loss)\n",
    "\n",
    "    def gradient(self,X,t):\n",
    "        y = self.predict(X)\n",
    "        d_bias =  -2*sum(t - y)\n",
    "        d_w = -2*sum(X[:,1:] * (t - y).reshape(-1,1))\n",
    "        g = np.append(np.array(d_bias), d_w) \n",
    "        # return g / X.shape[0] \n",
    "        return g / 2 "
   ]
  },
  {
   "cell_type": "code",
   "execution_count": 202,
   "metadata": {},
   "outputs": [],
   "source": [
    "def extract_polynomial_features(X, M):\n",
    "    phi = X\n",
    "    return np.array([x ** np.arange(M + 1) for x in phi])"
   ]
  },
  {
   "cell_type": "code",
   "execution_count": 203,
   "metadata": {},
   "outputs": [],
   "source": [
    "def mean_squared_error(y, t):\n",
    "    return np.mean((y - t) * (y- t))\n",
    "\n",
    "def normalised_squared_error(y,t):\n",
    "    return np.mean((y - t) / t.max()  * (y- t) / t.max())\n",
    "\n",
    "def RMSE(y,t):\n",
    "    return np.sqrt(mean_squared_error(y,t))\n",
    "\n",
    "def NRMSE(y,t):\n",
    "    return RMSE(y,t) / (np.max(t) - np.min(t))"
   ]
  },
  {
   "cell_type": "code",
   "execution_count": 204,
   "metadata": {},
   "outputs": [
    {
     "name": "stdout",
     "output_type": "stream",
     "text": [
      "(160,)\n",
      "Tolerance broke for:  [-0.7008477  45.32093925] [-0.70084723 45.32093966]\n",
      "Done with all epochs\n"
     ]
    },
    {
     "data": {
      "image/png": "[encoded data removed]",
      "text/plain": [
       "<Figure size 720x576 with 1 Axes>"
      ]
     },
     "metadata": {
      "needs_background": "light"
     },
     "output_type": "display_data"
    },
    {
     "name": "stdout",
     "output_type": "stream",
     "text": [
      "HERE [(0, 733.663859363083), (1, 302.5594161747036), (2, 167.316548571998), (3, 124.86641352708031), (4, 111.5339417728078), (5, 107.3436156926136), (6, 106.02555840547627), (7, 105.61058576501041), (8, 105.47980047768093), (9, 105.43853235100407), (10, 105.42549298849076), (11, 105.4213666912257), (12, 105.42005867900374), (13, 105.41964324435335), (14, 105.41951101327354), (15, 105.4194688230335), (16, 105.41945532555955), (17, 105.41945099469012), (18, 105.41944960055821), (19, 105.41944915019285), (20, 105.41944900414865), (21, 105.419448956595), (22, 105.41944894104321), (23, 105.41944893593373), (24, 105.41944893424693), (25, 105.41944893368722), (26, 105.4194489335006), (27, 105.419448933438), (28, 105.41944893341693), (29, 105.41944893340978), (30, 105.41944893340738), (31, 105.41944893340651), (32, 105.41944893340624), (33, 105.41944893340613)]\n"
     ]
    },
    {
     "data": {
      "image/png": "[encoded data removed]",
      "text/plain": [
       "<Figure size 720x576 with 1 Axes>"
      ]
     },
     "metadata": {
      "needs_background": "light"
     },
     "output_type": "display_data"
    }
   ],
   "source": [
    "print(t_train_simple.shape)\n",
    "\n",
    "X_train_feat = extract_polynomial_features(X_train_simple,1) \n",
    "X_test_feat = extract_polynomial_features(X_test_simple,1)\n",
    "\n",
    "model = LinearRegression()\n",
    "model.fit(X_train_feat,t_train_simple)\n",
    "y_test = model.predict(X_test_feat)\n",
    "\n",
    "sk_model = LR()\n",
    "sk_model.fit(X_train_simple,t_train_simple)\n",
    "\n",
    "y_test_sk = sk_model.predict(X_test_simple)\n",
    "\n",
    "\n",
    "fig = plt.figure(figsize=(10, 8))\n",
    "\n",
    "plt.scatter(X_test_simple, t_test_simple, facecolor=\"none\", edgecolor=\"r\", s=50, label=\"simple testing data\")\n",
    "plt.plot(X_test_simple,y_test,label='Gradiend descent prediction')\n",
    "plt.plot(X_test_simple,y_test_sk,label='skitlearn prediction',color='g')\n",
    "plt.legend()\n",
    "plt.show()\n",
    "\n",
    "fig = plt.figure(figsize=(10, 8))\n",
    "plt.xlabel(\"Epoch\")\n",
    "plt.ylabel(\"MSE\")\n",
    "plt.plot([ep[0] for ep in model.errors],[ep[1] for ep in model.errors],label='Errors')\n",
    "plt.legend()\n",
    "plt.show()\n"
   ]
  }
 ],
 "metadata": {
  "kernelspec": {
   "display_name": "Python 3.9.7 ('base')",
   "language": "python",
   "name": "python3"
  },
  "language_info": {
   "codemirror_mode": {
    "name": "ipython",
    "version": 3
   },
   "file_extension": ".py",
   "mimetype": "text/x-python",
   "name": "python",
   "nbconvert_exporter": "python",
   "pygments_lexer": "ipython3",
   "version": "3.9.7"
  },
  "orig_nbformat": 4,
  "vscode": {
   "interpreter": {
    "hash": "83fe3dded244521719d8e0d63d04655e244079fed53815cc5ecc03a8b412bee2"
   }
  }
 },
 "nbformat": 4,
 "nbformat_minor": 2
}
