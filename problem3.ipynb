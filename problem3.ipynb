{
 "cells": [
  {
   "cell_type": "code",
   "execution_count": 42,
   "metadata": {},
   "outputs": [],
   "source": [
    "import pandas as pd\n",
    "import numpy as np\n",
    "from collections import Counter\n",
    "from sklearn.metrics import r2_score\n",
    "import matplotlib.pyplot as plt\n",
    "pd.set_option('display.max_rows', 500)\n",
    "max_depth = 5"
   ]
  },
  {
   "cell_type": "code",
   "execution_count": 43,
   "metadata": {},
   "outputs": [
    {
     "name": "stdout",
     "output_type": "stream",
     "text": [
      "1599\n"
     ]
    },
    {
     "data": {
      "text/html": [
       "<div>\n",
       "<style scoped>\n",
       "    .dataframe tbody tr th:only-of-type {\n",
       "        vertical-align: middle;\n",
       "    }\n",
       "\n",
       "    .dataframe tbody tr th {\n",
       "        vertical-align: top;\n",
       "    }\n",
       "\n",
       "    .dataframe thead th {\n",
       "        text-align: right;\n",
       "    }\n",
       "</style>\n",
       "<table border=\"1\" class=\"dataframe\">\n",
       "  <thead>\n",
       "    <tr style=\"text-align: right;\">\n",
       "      <th></th>\n",
       "      <th>fixed acidity</th>\n",
       "      <th>volatile acidity</th>\n",
       "      <th>citric acid</th>\n",
       "      <th>residual sugar</th>\n",
       "      <th>chlorides</th>\n",
       "      <th>free sulfur dioxide</th>\n",
       "      <th>total sulfur dioxide</th>\n",
       "      <th>density</th>\n",
       "      <th>pH</th>\n",
       "      <th>sulphates</th>\n",
       "      <th>alcohol</th>\n",
       "      <th>quality</th>\n",
       "    </tr>\n",
       "  </thead>\n",
       "  <tbody>\n",
       "    <tr>\n",
       "      <th>0</th>\n",
       "      <td>7.4</td>\n",
       "      <td>0.70</td>\n",
       "      <td>0.00</td>\n",
       "      <td>1.9</td>\n",
       "      <td>0.076</td>\n",
       "      <td>11.0</td>\n",
       "      <td>34.0</td>\n",
       "      <td>0.9978</td>\n",
       "      <td>3.51</td>\n",
       "      <td>0.56</td>\n",
       "      <td>9.4</td>\n",
       "      <td>5</td>\n",
       "    </tr>\n",
       "    <tr>\n",
       "      <th>1</th>\n",
       "      <td>7.8</td>\n",
       "      <td>0.88</td>\n",
       "      <td>0.00</td>\n",
       "      <td>2.6</td>\n",
       "      <td>0.098</td>\n",
       "      <td>25.0</td>\n",
       "      <td>67.0</td>\n",
       "      <td>0.9968</td>\n",
       "      <td>3.20</td>\n",
       "      <td>0.68</td>\n",
       "      <td>9.8</td>\n",
       "      <td>5</td>\n",
       "    </tr>\n",
       "    <tr>\n",
       "      <th>2</th>\n",
       "      <td>7.8</td>\n",
       "      <td>0.76</td>\n",
       "      <td>0.04</td>\n",
       "      <td>2.3</td>\n",
       "      <td>0.092</td>\n",
       "      <td>15.0</td>\n",
       "      <td>54.0</td>\n",
       "      <td>0.9970</td>\n",
       "      <td>3.26</td>\n",
       "      <td>0.65</td>\n",
       "      <td>9.8</td>\n",
       "      <td>5</td>\n",
       "    </tr>\n",
       "    <tr>\n",
       "      <th>3</th>\n",
       "      <td>11.2</td>\n",
       "      <td>0.28</td>\n",
       "      <td>0.56</td>\n",
       "      <td>1.9</td>\n",
       "      <td>0.075</td>\n",
       "      <td>17.0</td>\n",
       "      <td>60.0</td>\n",
       "      <td>0.9980</td>\n",
       "      <td>3.16</td>\n",
       "      <td>0.58</td>\n",
       "      <td>9.8</td>\n",
       "      <td>6</td>\n",
       "    </tr>\n",
       "    <tr>\n",
       "      <th>4</th>\n",
       "      <td>7.4</td>\n",
       "      <td>0.70</td>\n",
       "      <td>0.00</td>\n",
       "      <td>1.9</td>\n",
       "      <td>0.076</td>\n",
       "      <td>11.0</td>\n",
       "      <td>34.0</td>\n",
       "      <td>0.9978</td>\n",
       "      <td>3.51</td>\n",
       "      <td>0.56</td>\n",
       "      <td>9.4</td>\n",
       "      <td>5</td>\n",
       "    </tr>\n",
       "  </tbody>\n",
       "</table>\n",
       "</div>"
      ],
      "text/plain": [
       "   fixed acidity  volatile acidity  citric acid  residual sugar  chlorides  \\\n",
       "0            7.4              0.70         0.00             1.9      0.076   \n",
       "1            7.8              0.88         0.00             2.6      0.098   \n",
       "2            7.8              0.76         0.04             2.3      0.092   \n",
       "3           11.2              0.28         0.56             1.9      0.075   \n",
       "4            7.4              0.70         0.00             1.9      0.076   \n",
       "\n",
       "   free sulfur dioxide  total sulfur dioxide  density    pH  sulphates  \\\n",
       "0                 11.0                  34.0   0.9978  3.51       0.56   \n",
       "1                 25.0                  67.0   0.9968  3.20       0.68   \n",
       "2                 15.0                  54.0   0.9970  3.26       0.65   \n",
       "3                 17.0                  60.0   0.9980  3.16       0.58   \n",
       "4                 11.0                  34.0   0.9978  3.51       0.56   \n",
       "\n",
       "   alcohol  quality  \n",
       "0      9.4        5  \n",
       "1      9.8        5  \n",
       "2      9.8        5  \n",
       "3      9.8        6  \n",
       "4      9.4        5  "
      ]
     },
     "execution_count": 43,
     "metadata": {},
     "output_type": "execute_result"
    }
   ],
   "source": [
    "fields = [\"fixed acidity\",\"volatile acidity\",\"citric acid\",\"residual sugar\",\"chlorides\",\"free sulfur dioxide\",\"total sulfur dioxide\",\"density\",\"pH\",\"sulphates\",\"alcohol\",\"quality\"]\n",
    "data_wine = pd.read_csv(r\"winequality-red.csv\", sep=\";\")\n",
    "print(len(data_wine.index))\n",
    "data_wine.head()"
   ]
  },
  {
   "cell_type": "code",
   "execution_count": 44,
   "metadata": {},
   "outputs": [
    {
     "data": {
      "text/html": [
       "<div>\n",
       "<style scoped>\n",
       "    .dataframe tbody tr th:only-of-type {\n",
       "        vertical-align: middle;\n",
       "    }\n",
       "\n",
       "    .dataframe tbody tr th {\n",
       "        vertical-align: top;\n",
       "    }\n",
       "\n",
       "    .dataframe thead th {\n",
       "        text-align: right;\n",
       "    }\n",
       "</style>\n",
       "<table border=\"1\" class=\"dataframe\">\n",
       "  <thead>\n",
       "    <tr style=\"text-align: right;\">\n",
       "      <th></th>\n",
       "      <th>mpg</th>\n",
       "      <th>cylinders</th>\n",
       "      <th>displacement</th>\n",
       "      <th>horsepower</th>\n",
       "      <th>weight</th>\n",
       "      <th>acceleration</th>\n",
       "      <th>model year</th>\n",
       "      <th>origin</th>\n",
       "      <th>car name</th>\n",
       "    </tr>\n",
       "  </thead>\n",
       "  <tbody>\n",
       "    <tr>\n",
       "      <th>0</th>\n",
       "      <td>18.0</td>\n",
       "      <td>8</td>\n",
       "      <td>307.0</td>\n",
       "      <td>130</td>\n",
       "      <td>3504</td>\n",
       "      <td>12.0</td>\n",
       "      <td>70</td>\n",
       "      <td>1</td>\n",
       "      <td>chevrolet chevelle malibu</td>\n",
       "    </tr>\n",
       "    <tr>\n",
       "      <th>1</th>\n",
       "      <td>15.0</td>\n",
       "      <td>8</td>\n",
       "      <td>350.0</td>\n",
       "      <td>165</td>\n",
       "      <td>3693</td>\n",
       "      <td>11.5</td>\n",
       "      <td>70</td>\n",
       "      <td>1</td>\n",
       "      <td>buick skylark 320</td>\n",
       "    </tr>\n",
       "    <tr>\n",
       "      <th>2</th>\n",
       "      <td>18.0</td>\n",
       "      <td>8</td>\n",
       "      <td>318.0</td>\n",
       "      <td>150</td>\n",
       "      <td>3436</td>\n",
       "      <td>11.0</td>\n",
       "      <td>70</td>\n",
       "      <td>1</td>\n",
       "      <td>plymouth satellite</td>\n",
       "    </tr>\n",
       "    <tr>\n",
       "      <th>3</th>\n",
       "      <td>16.0</td>\n",
       "      <td>8</td>\n",
       "      <td>304.0</td>\n",
       "      <td>150</td>\n",
       "      <td>3433</td>\n",
       "      <td>12.0</td>\n",
       "      <td>70</td>\n",
       "      <td>1</td>\n",
       "      <td>amc rebel sst</td>\n",
       "    </tr>\n",
       "    <tr>\n",
       "      <th>4</th>\n",
       "      <td>17.0</td>\n",
       "      <td>8</td>\n",
       "      <td>302.0</td>\n",
       "      <td>140</td>\n",
       "      <td>3449</td>\n",
       "      <td>10.5</td>\n",
       "      <td>70</td>\n",
       "      <td>1</td>\n",
       "      <td>ford torino</td>\n",
       "    </tr>\n",
       "  </tbody>\n",
       "</table>\n",
       "</div>"
      ],
      "text/plain": [
       "    mpg  cylinders  displacement horsepower  weight  acceleration  model year  \\\n",
       "0  18.0          8         307.0        130    3504          12.0          70   \n",
       "1  15.0          8         350.0        165    3693          11.5          70   \n",
       "2  18.0          8         318.0        150    3436          11.0          70   \n",
       "3  16.0          8         304.0        150    3433          12.0          70   \n",
       "4  17.0          8         302.0        140    3449          10.5          70   \n",
       "\n",
       "   origin                   car name  \n",
       "0       1  chevrolet chevelle malibu  \n",
       "1       1          buick skylark 320  \n",
       "2       1         plymouth satellite  \n",
       "3       1              amc rebel sst  \n",
       "4       1                ford torino  "
      ]
     },
     "execution_count": 44,
     "metadata": {},
     "output_type": "execute_result"
    }
   ],
   "source": [
    "data_cars = pd.read_csv(\"auto-mpg.csv\")\n",
    "data_cars.head()"
   ]
  },
  {
   "cell_type": "code",
   "execution_count": 45,
   "metadata": {},
   "outputs": [],
   "source": [
    "def prepare_data(which='Wine'):\n",
    "    if which == \"Wine\":\n",
    "        ## split in test and train set\n",
    "        mask = np.random.rand(len(data_wine)) < 0.8\n",
    "        X_train = data_wine[mask]\n",
    "        X_test = data_wine[~mask]\n",
    "\n",
    "        y_train = pd.Series(X_train['fixed acidity'])\n",
    "        y_test = pd.Series(X_test['fixed acidity'])\n",
    "\n",
    "        y_train = y_train.reset_index(drop=True)\n",
    "        y_test = y_test.reset_index(drop=True)\n",
    "\n",
    "        X_train = X_train.drop(columns=['fixed acidity'])\n",
    "        X_train = X_train.reset_index(drop=True)\n",
    "\n",
    "        X_test = X_test.drop(columns=['fixed acidity'])\n",
    "        X_test = X_test.reset_index(drop=True)\n",
    "        \n",
    "        # print(\"X train:\",len(X_train),\" Y train:\",len(y_train),\" X Test: \",len(X_test),\" Y test: \",len(y_test))\n",
    "\n",
    "        return X_train,y_train,X_test,y_test\n",
    "    \n",
    "    elif which == \"Cars\":\n",
    "        ## split in test and train set\n",
    "        mask = np.random.rand(len(data_cars)) < 0.8\n",
    "        X_train = data_cars[mask]\n",
    "        X_test = data_cars[~mask]\n",
    "\n",
    "        y_train = pd.Series(X_train['mpg'])\n",
    "        y_test = pd.Series(X_test['mpg'])\n",
    "\n",
    "        \n",
    "        y_train = y_train.reset_index(drop=True)\n",
    "        y_test = y_test.reset_index(drop=True)\n",
    "\n",
    "\n",
    "        ## drop everything but horsepower and weight\n",
    "\n",
    "        X_train = X_train.drop(columns=[\"cylinders\", \"displacement\",\"acceleration\",\"model year\",\"origin\",\"car name\"])\n",
    "        X_test = X_test.drop(columns=[\"cylinders\", \"displacement\",\"acceleration\",\"model year\",\"origin\",\"car name\"])\n",
    "\n",
    "        X_train = X_train.reset_index(drop=True)\n",
    "        X_test = X_test.reset_index(drop=True)\n",
    "\n",
    "        \n",
    "        return X_train,y_train,X_test,y_test\n",
    "    \n",
    "\n",
    "def get_full_dataset(which=\"Wine\"):\n",
    "    if which == 'Wine':\n",
    "        X = data_wine\n",
    "        y = pd.Series(X['fixed acidity'])\n",
    "        y = y.reset_index(drop=True)\n",
    "        X = X.drop(columns=['fixed acidity'])\n",
    "        X = X.reset_index(drop=True)\n",
    "\n",
    "        return X,y\n",
    "    \n",
    "    elif which == 'Cars':\n",
    "        X = data_cars\n",
    "        y = pd.Series(X['mpg'])\n",
    "        y = y.reset_index(drop=True)\n",
    "        X = X.drop(columns=[\"cylinders\", \"displacement\",\"acceleration\",\"model\",\"year\",\"origin\",\"car name\"])\n",
    "        X = X.reset_index(drop=True)\n",
    "\n",
    "        return X,y\n",
    "\n",
    "\n",
    "def split_into_folds(data,K=10):\n",
    "    # print(len(data.index))\n",
    "    return np.array_split(data,10)\n",
    "\n",
    "\n",
    "def shuffle_df(data):\n",
    "    return data.sample(frac=1).reset_index(drop=True)\n"
   ]
  },
  {
   "cell_type": "markdown",
   "metadata": {},
   "source": [
    "### Fiecare nod va fi un dictionar de forma : {feature: f , separation_treshold: t, node_left (<= t) : nl, node_right (> t) : nr}"
   ]
  },
  {
   "cell_type": "code",
   "execution_count": 46,
   "metadata": {},
   "outputs": [],
   "source": [
    "## Pandas Series\n",
    "def rss(y_left, y_right):\n",
    "    def squared_residual_sum(y):\n",
    "        return np.sum((y - np.mean(y)) ** 2)\n",
    "    \n",
    "    \n",
    "    return squared_residual_sum(y_left) + squared_residual_sum(y_right) "
   ]
  },
  {
   "cell_type": "code",
   "execution_count": 47,
   "metadata": {},
   "outputs": [],
   "source": [
    "\n",
    "def transform_list(l):\n",
    "    '''\n",
    "    Transforma {10,12,13,44,50} in {11,12.5,28.5,47}\n",
    "    '''\n",
    "    tbr = []\n",
    "    \n",
    "    for i in range(len(l)-1):\n",
    "        mean = (l[i] + l[i+1]) / 2\n",
    "        tbr += [mean]\n",
    "\n",
    "    return tbr\n",
    "\n",
    "def find_best_rule(X_train, y_train):\n",
    "    best_feature, best_threshold, min_rss = None, None, np.inf\n",
    "    for feature in X_train.columns:\n",
    "        thresholds = X_train[feature].unique().tolist()\n",
    "        thresholds.sort()\n",
    "        ## transform to couple means\n",
    "        if type(thresholds[0]) == int or type(thresholds[0]) == float:\n",
    "            thresholds = transform_list(thresholds)\n",
    "        \n",
    "        ## if list of strings should return each one\n",
    "\n",
    "        # thresholds = thresholds[1:]\n",
    "        for t in thresholds:\n",
    "            y_left_ix = X_train[feature] < t\n",
    "            y_left, y_right = y_train[y_left_ix], y_train[~y_left_ix]\n",
    "            t_rss = rss(y_left, y_right)\n",
    "            if t_rss < min_rss:\n",
    "                min_rss = t_rss\n",
    "                best_threshold = t\n",
    "                best_feature = feature\n",
    "    \n",
    "    return {'feature': best_feature, 'threshold': best_threshold, 'RSS': min_rss}"
   ]
  },
  {
   "cell_type": "code",
   "execution_count": 48,
   "metadata": {},
   "outputs": [],
   "source": [
    "def split(X_train, y_train, depth, max_depth):\n",
    "    if depth == max_depth or len(X_train) <= 5:\n",
    "        return {'prediction': np.mean(y_train), 'RSS':np.var(y_train)}\n",
    "    \n",
    "    \n",
    "    rule = find_best_rule(X_train, y_train)\n",
    "    \n",
    "    left_ix = X_train[rule['feature']] < rule['threshold']\n",
    "    \n",
    "    rule['left'] = split(X_train[left_ix], y_train[left_ix], depth + 1, max_depth)\n",
    "    rule['right'] = split(X_train[~left_ix], y_train[~left_ix], depth + 1, max_depth)\n",
    "    return rule"
   ]
  },
  {
   "cell_type": "code",
   "execution_count": 49,
   "metadata": {},
   "outputs": [],
   "source": [
    "def predict(sample, rules):\n",
    "    prediction = None\n",
    "    while prediction is None:\n",
    "        feature, threshold = rules['feature'], rules['threshold']\n",
    "        if sample[feature] < threshold:\n",
    "            rules = rules['left']\n",
    "        else:\n",
    "            rules = rules['right']\n",
    "        prediction = rules.get('prediction', None)\n",
    "    return prediction"
   ]
  },
  {
   "cell_type": "code",
   "execution_count": 50,
   "metadata": {},
   "outputs": [],
   "source": [
    "def get_leaves(rules):\n",
    "    leaves = []\n",
    "    def get_leaves_inner(rules):\n",
    "        nonlocal leaves\n",
    "        ## daca nu e frunza\n",
    "        if rules.get('prediction',None) == None:\n",
    "            ## vizitez copii\n",
    "            get_leaves_inner(rules['left'])\n",
    "            get_leaves_inner(rules['right'])\n",
    "        else:\n",
    "            leaves += [rules]\n",
    "\n",
    "    get_leaves_inner(rules)\n",
    "    return leaves\n",
    "\n",
    "\n",
    "def RSS_tree(rules):\n",
    "    ## is leaf\n",
    "    if rules.get('prediction',None) != None:\n",
    "        return rules['RSS']\n",
    "\n",
    "    leaves = get_leaves(rules)\n",
    "    return np.mean([leaf['RSS'] for leaf in leaves])\n",
    "\n",
    "def get_prune_prediction(node):\n",
    "    leaves = get_leaves(node)\n",
    "    return np.mean([leaf['prediction'] for leaf in leaves])\n",
    "\n",
    "def C_alpha(rules,alpha=1):\n",
    "    leaves = get_leaves(rules)\n",
    "    return RSS_tree(rules) + alpha * len(leaves) "
   ]
  },
  {
   "cell_type": "code",
   "execution_count": 51,
   "metadata": {},
   "outputs": [],
   "source": [
    "def evaluate(X, y,rules):\n",
    "    preds = X.apply(predict, axis='columns', rules=rules.copy())\n",
    "    print(preds)\n",
    "    return r2_score(preds, y)"
   ]
  },
  {
   "cell_type": "code",
   "execution_count": 52,
   "metadata": {},
   "outputs": [],
   "source": [
    "def mean_squared_error(y, t):\n",
    "    return np.mean((y - t) * (y- t))\n",
    "\n",
    "def RMSE(y,t):\n",
    "    return np.sqrt(mean_squared_error(y,t))\n"
   ]
  },
  {
   "cell_type": "code",
   "execution_count": 53,
   "metadata": {},
   "outputs": [
    {
     "data": {
      "text/plain": [
       "0     7.4\n",
       "1     7.8\n",
       "2    11.2\n",
       "3     7.4\n",
       "4     7.4\n",
       "Name: fixed acidity, dtype: float64"
      ]
     },
     "execution_count": 53,
     "metadata": {},
     "output_type": "execute_result"
    }
   ],
   "source": [
    "X_train,y_train,X_test,y_test = prepare_data()\n",
    "\n",
    "y_train.head()"
   ]
  },
  {
   "cell_type": "code",
   "execution_count": 54,
   "metadata": {},
   "outputs": [
    {
     "name": "stdout",
     "output_type": "stream",
     "text": [
      "{'feature': 'citric acid', 'threshold': 0.365, 'RSS': 2388.517929644375, 'left': {'feature': 'pH', 'threshold': 3.3449999999999998, 'RSS': 681.7544834364144, 'left': {'feature': 'density', 'threshold': 0.9973700000000001, 'RSS': 262.5015728346457, 'left': {'feature': 'density', 'threshold': 0.9961249999999999, 'RSS': 141.0479744269453, 'left': {'feature': 'pH', 'threshold': 3.275, 'RSS': 54.047866120218586, 'left': {'prediction': 7.881666666666667, 'RSS': 0.6158305555555553}, 'right': {'prediction': 7.2262295081967185, 'RSS': 0.2802956194571352}}, 'right': {'feature': 'alcohol', 'threshold': 10.55, 'RSS': 62.63053030303031, 'left': {'prediction': 7.943181818181818, 'RSS': 0.35290805785123963}, 'right': {'prediction': 8.655555555555555, 'RSS': 0.5943209876543212}}}, 'right': {'feature': 'residual sugar', 'threshold': 3.6500000000000004, 'RSS': 87.2522077922078, 'left': {'feature': 'alcohol', 'threshold': 9.9, 'RSS': 42.578743961352664, 'left': {'prediction': 8.831884057971015, 'RSS': 0.3868094938038228}, 'right': {'prediction': 9.655555555555559, 'RSS': 0.44135802469135843}}, 'right': {'feature': 'density', 'threshold': 1.00032, 'RSS': 13.874035087719303, 'left': {'prediction': 7.847368421052631, 'RSS': 0.7130193905817176}, 'right': {'prediction': 10.233333333333333, 'RSS': 0.10888888888888866}}}}, 'right': {'feature': 'density', 'threshold': 0.99502, 'RSS': 220.199081719334, 'left': {'feature': 'pH', 'threshold': 3.465, 'RSS': 30.309638802889584, 'left': {'feature': 'density', 'threshold': 0.99241, 'RSS': 14.101326530612248, 'left': {'prediction': 5.449999999999999, 'RSS': 0.12250000000000005}, 'right': {'prediction': 6.861224489795917, 'RSS': 0.2827821740941274}}, 'right': {'feature': 'pH', 'threshold': 3.65, 'RSS': 7.0817521367521366, 'left': {'prediction': 5.894871794871795, 'RSS': 0.14253780407626568}, 'right': {'prediction': 5.238888888888889, 'RSS': 0.08459876543209871}}}, 'right': {'feature': 'density', 'threshold': 0.9978549999999999, 'RSS': 114.68086223776223, 'left': {'feature': 'pH', 'threshold': 3.4050000000000002, 'RSS': 65.18869534168316, 'left': {'prediction': 7.36036036036036, 'RSS': 0.2586088791494197}, 'right': {'prediction': 6.96280487804878, 'RSS': 0.22245798631766805}}, 'right': {'feature': 'pH', 'threshold': 3.51, 'RSS': 27.08376940133038, 'left': {'prediction': 8.346341463414637, 'RSS': 0.6259012492563953}, 'right': {'prediction': 7.172727272727273, 'RSS': 0.12925619834710733}}}}}, 'right': {'feature': 'density', 'threshold': 0.9983500000000001, 'RSS': 919.8538851427568, 'left': {'feature': 'pH', 'threshold': 3.285, 'RSS': 441.7994933512009, 'left': {'feature': 'total sulfur dioxide', 'threshold': 77.5, 'RSS': 259.18473492286114, 'left': {'feature': 'density', 'threshold': 0.99671, 'RSS': 201.4757394843962, 'left': {'prediction': 9.259701492537314, 'RSS': 0.6943461795500114}, 'right': {'prediction': 10.32272727272727, 'RSS': 1.7608471074380156}}, 'right': {'feature': 'density', 'threshold': 0.9971, 'RSS': 7.565923076923079, 'left': {'prediction': 7.7846153846153845, 'RSS': 0.4766863905325445}, 'right': {'prediction': 8.91, 'RSS': 0.13690000000000008}}}, 'right': {'feature': 'density', 'threshold': 0.99735, 'RSS': 109.25027450980394, 'left': {'feature': 'total sulfur dioxide', 'threshold': 72.5, 'RSS': 71.41627136752138, 'left': {'prediction': 8.015277777777778, 'RSS': 0.8171277006172836}, 'right': {'prediction': 7.023076923076923, 'RSS': 0.9679289940828404}}, 'right': {'feature': 'sulphates', 'threshold': 0.705, 'RSS': 21.41216783216784, 'left': {'prediction': 8.523076923076923, 'RSS': 0.15869822485207122}, 'right': {'prediction': 9.490909090909092, 'RSS': 1.7590082644628104}}}}, 'right': {'feature': 'pH', 'threshold': 3.2649999999999997, 'RSS': 214.19026299694187, 'left': {'feature': 'pH', 'threshold': 3.075, 'RSS': 150.863635235732, 'left': {'feature': 'chlorides', 'threshold': 0.10300000000000001, 'RSS': 42.233599999999996, 'left': {'prediction': 13.316, 'RSS': 1.5741439999999998}, 'right': {'prediction': 10.6, 'RSS': 0.48000000000000026}}, 'right': {'feature': 'residual sugar', 'threshold': 6.05, 'RSS': 55.536464285714274, 'left': {'prediction': 11.594285714285713, 'RSS': 0.7673959183673471}, 'right': {'prediction': 10.037500000000001, 'RSS': 0.22734375000000004}}}, 'right': {'feature': 'sulphates', 'threshold': 0.84, 'RSS': 14.494583333333333, 'left': {'feature': 'density', 'threshold': 0.99885, 'RSS': 3.8632857142857144, 'left': {'prediction': 9.110000000000001, 'RSS': 0.22490000000000002}, 'right': {'prediction': 9.757142857142856, 'RSS': 0.11530612244897961}}, 'right': {'feature': 'density', 'threshold': 1.0004499999999998, 'RSS': 1.135, 'left': {'prediction': 11.55, 'RSS': 0.0024999999999999823}, 'right': {'prediction': 9.25, 'RSS': 0.5625}}}}}}\n"
     ]
    }
   ],
   "source": [
    "\n",
    "X_train,y_train,X_test,y_test = prepare_data()\n",
    "rules = split(X_train, y_train, 0, max_depth)\n",
    "\n",
    "print(rules)\n",
    "# print(\"\\n\\n\")\n",
    "# print(get_leaves(rules))\n",
    "# print(\"\\n\\n\")\n",
    "# print(RSS_tree(rules))\n",
    "# print(\"C ALPHA:\",C_alpha(rules))"
   ]
  },
  {
   "cell_type": "code",
   "execution_count": 55,
   "metadata": {},
   "outputs": [
    {
     "name": "stdout",
     "output_type": "stream",
     "text": [
      "MSE is: 0.7870440075158852\n",
      "RMSE is: 0.8871550076034543\n"
     ]
    }
   ],
   "source": [
    "\n",
    "y_predicted = X_test.apply(predict,axis='columns',rules=rules.copy())\n",
    "\n",
    "results = pd.DataFrame({\"Predicted\":y_predicted,\"Real\":y_test})\n",
    "\n",
    "results.head()\n",
    "\n",
    "y_predicted_np = y_predicted.to_numpy()\n",
    "y_test_np = y_test.to_numpy()\n",
    "\n",
    "print(\"MSE is:\",mean_squared_error(y_predicted_np,y_test_np))\n",
    "print(\"RMSE is:\",RMSE(y_predicted_np,y_test_np))"
   ]
  },
  {
   "cell_type": "code",
   "execution_count": 56,
   "metadata": {},
   "outputs": [],
   "source": [
    "def get_node_minimum_g(rules):\n",
    "\n",
    "    min_g = 1e6\n",
    "    min_t = None\n",
    "\n",
    "    def get_node_minimum_g_inner(rules):\n",
    "        nonlocal min_g\n",
    "        nonlocal min_t\n",
    "\n",
    "        ## leaf node\n",
    "        if rules.get('prediction',None) != None:\n",
    "            return\n",
    "            \n",
    "        g_score = (rules['RSS'] - RSS_tree(rules)) / (len(get_leaves(rules)) - 1)\n",
    "\n",
    "        if g_score < min_g:\n",
    "            min_g = g_score\n",
    "            min_t = rules\n",
    "\n",
    "        if rules.get('prediction',None) == None:\n",
    "            get_node_minimum_g_inner(rules['left'])\n",
    "            get_node_minimum_g_inner(rules['right'])\n",
    "\n",
    "    get_node_minimum_g_inner(rules)\n",
    "    return min_g,min_t\n",
    "\n",
    "\n",
    "## o sa inlocuiasca subtree ce are ca parinte pe node cu node si predictia media predictiilor tuturor copiilor frunza\n",
    "def eq_nodes(node1,node2):\n",
    "\n",
    "    if node1.get('prediction',None) != None and node2.get('prediction',None) == None:\n",
    "        return False\n",
    "\n",
    "    if node2.get('prediction',None) != None and node1.get('prediction',None) == None:\n",
    "        return False\n",
    "\n",
    "    ## shouldnt enter here\n",
    "    ## both are leaves\n",
    "    \n",
    "    if node1.get('prediction',None) != None and node2.get('prediction',None) != None:\n",
    "        print(\"Shouldn't be here !!!!!!!!!!!!!!!!!!!!!!!!!!!!!!!!!!!!!\")\n",
    "        return None \n",
    "\n",
    "    return node1['feature'] == node2['feature'] and node1['threshold'] == node2['threshold'] and node1['RSS'] == node2['RSS']\n",
    "\n",
    "\n",
    "## sper ca modifica dictionarul\n",
    "def prune_node(rules,node):\n",
    "    \n",
    "    ## leaf\n",
    "    if rules.get('prediction',None) != None:\n",
    "        return\n",
    "\n",
    "    left_child = rules.get('left',None)\n",
    "    right_child = rules.get('right',None)\n",
    "\n",
    "    if left_child != None:\n",
    "        if eq_nodes(left_child,node):\n",
    "            ## the left child is the node to be replaced\n",
    "            new_RSS = RSS_tree(left_child)\n",
    "            new_prediction = get_prune_prediction(left_child)\n",
    "            rules['left'] = {'prediction': new_prediction,'RSS': new_RSS}\n",
    "            return\n",
    "        \n",
    "        prune_node(left_child,node)\n",
    "\n",
    "    if right_child != None:\n",
    "        if eq_nodes(right_child,node):\n",
    "            ## the right child is the node to be replaced\n",
    "            new_RSS = RSS_tree(right_child)\n",
    "            new_prediction = get_prune_prediction(right_child)\n",
    "            rules['right'] = {'prediction': new_prediction,'RSS': new_RSS}\n",
    "        \n",
    "\n",
    "        prune_node(right_child,node)\n",
    "\n",
    "## has only right and left children which each have 2 predictions    \n",
    "## il las si sa aiba alte forme mai reduse\n",
    "def is_in_final_form(rules):\n",
    "    left_child = rules['left']\n",
    "    right_child = rules['right']\n",
    "\n",
    "    if left_child.get('prediction',None) != None and right_child.get('prediction',None) != None:\n",
    "        return True\n",
    "\n",
    "    # one_prediction_one_not_left = left_child.get('prediction',None) != None and (right_child['left'].get('prediction',None) != None and right_child['right'].get('prediction',None) != None)\n",
    "    \n",
    "    # one_prediction_one_not_right = right_child.get('prediction',None) != None and (left_child['left'].get('prediction',None) != None and left_child['right'].get('prediction',None) != None)\n",
    "    \n",
    "    # if one_prediction_one_not_left or one_prediction_one_not_right:\n",
    "    #     return True \n",
    "\n",
    "    # ## aici iau key error left\n",
    "    # cond_left = left_child['left'].get('prediction',None) != None and left_child['right'].get('prediction',None) != None \n",
    "    # cond_right = right_child['left'].get('prediction',None) != None and right_child['right'].get('prediction',None) != None \n",
    "\n",
    "    # return cond_left and cond_right\n",
    "\n",
    "    return False"
   ]
  },
  {
   "cell_type": "code",
   "execution_count": 57,
   "metadata": {},
   "outputs": [],
   "source": [
    "\n",
    "def pruning_algorithm(X_train,y_train,X_test,y_test,max_depth=5):\n",
    "    stats = {}\n",
    "\n",
    "    # print(\"Before splitting in prune\")\n",
    "    ## aici e problema\n",
    "    rules = split(X_train, y_train, 0, max_depth)\n",
    "    \n",
    "    # print(\"Done splitting in prune\")\n",
    "    ## initial tree\n",
    "    y_predicted = X_test.apply(predict,axis='columns',rules=rules.copy())\n",
    "\n",
    "    results = pd.DataFrame({\"Predicted\":y_predicted,\"Real\":y_test})\n",
    "\n",
    "    ## key: alpha, vals: [RMSE,RSS,tree]\n",
    "    stats[0] = [RMSE(y_predicted.to_numpy(),y_test.to_numpy()),RSS_tree(rules),rules.copy()]\n",
    "\n",
    "    # print(\"Completed first stats\")\n",
    "\n",
    "    while not is_in_final_form(rules):\n",
    "        alpha,node = get_node_minimum_g(rules)\n",
    "        # print(\"Got the minimum\")\n",
    "        prune_node(rules,node)\n",
    "        # print(\"Pruned the node\")\n",
    "\n",
    "        ## now rules are pruned\n",
    "\n",
    "        y_predicted = X_test.apply(predict,axis='columns',rules=rules.copy())\n",
    "\n",
    "        results = pd.DataFrame({\"Predicted\":y_predicted,\"Real\":y_test})\n",
    "\n",
    "        stats[alpha] = [RMSE(y_predicted.to_numpy(),y_test.to_numpy()),RSS_tree(rules),rules.copy()]\n",
    "\n",
    "        # print(\"Updated stats in prune\")\n",
    "    \n",
    "\n",
    "    return stats\n",
    "        \n",
    "\n",
    "def k_cross_validation(data,K=10,max_depth=5,type='Wine'):\n",
    "    \n",
    "    if type == 'Wine':\n",
    "        to_be_dropped = [\"fixed acidity\"]\n",
    "        to_predict = \"fixed acidity\"\n",
    "    else:\n",
    "        to_be_dropped = [\"cylinders\", \"displacement\",\"acceleration\",\"model year\",\"origin\",\"car name\"]\n",
    "        to_predict = \"mpg\"\n",
    "        \n",
    "    stats = {}\n",
    "\n",
    "    ## shuffle data\n",
    "    # _data = shuffle_df(data)\n",
    "    _data = data\n",
    "\n",
    "    ## split into folds\n",
    "    folds = split_into_folds(_data,K)\n",
    "\n",
    "    for i in range(len(folds)):\n",
    "        current_fold = folds[i]\n",
    "        ## i set is for testing, the others for training\n",
    "        # print(\"HERE\")\n",
    "        ## merge the rest of the df\n",
    "\n",
    "        acc = pd.DataFrame()\n",
    "\n",
    "        for j in range(len(folds)):\n",
    "            if j == i:\n",
    "                continue\n",
    "            \n",
    "            the_fold = folds[j]\n",
    "\n",
    "            acc = pd.concat([acc,the_fold])\n",
    "\n",
    "        acc = acc.reset_index(drop=True)\n",
    "\n",
    "        # print(\"After concat\")\n",
    "        ## acc is the training set\n",
    "        ## current_fold is the testing set\n",
    "\n",
    "        training_raw = acc\n",
    "        testing_raw = current_fold.reset_index(drop=True)\n",
    "\n",
    "        y_train = pd.Series(training_raw[to_predict])\n",
    "        y_test = pd.Series(testing_raw[to_predict])\n",
    "\n",
    "        y_train = y_train.reset_index(drop=True)\n",
    "        y_test = y_test.reset_index(drop=True)\n",
    "\n",
    "        X_train = training_raw.drop(columns=to_be_dropped)\n",
    "        X_train = X_train.reset_index(drop=True)\n",
    "\n",
    "        X_test = testing_raw.drop(columns=to_be_dropped)\n",
    "        X_test = X_test.reset_index(drop=True)\n",
    "\n",
    "        ## I now have X_train,X_test,y_train,y_test\n",
    "\n",
    "        stats_k = pruning_algorithm(X_train,y_train,X_test,y_test)\n",
    "\n",
    "        # print(\"After pruning alg\")\n",
    "\n",
    "        stats[i] = stats_k\n",
    "\n",
    "        # print(\"Done putting in stats\")\n",
    "\n",
    "\n",
    "    return stats\n",
    "        "
   ]
  },
  {
   "cell_type": "markdown",
   "metadata": {},
   "source": [
    "## WINE DATASET"
   ]
  },
  {
   "cell_type": "code",
   "execution_count": 58,
   "metadata": {},
   "outputs": [],
   "source": [
    "X_train,y_train,X_test,y_test = prepare_data()\n",
    "stats = pruning_algorithm(X_train,y_train,X_test,y_test)"
   ]
  },
  {
   "cell_type": "code",
   "execution_count": 59,
   "metadata": {},
   "outputs": [],
   "source": [
    "k_fold_stats = k_cross_validation(data_wine)"
   ]
  },
  {
   "cell_type": "code",
   "execution_count": 60,
   "metadata": {},
   "outputs": [
    {
     "name": "stdout",
     "output_type": "stream",
     "text": [
      "RMSE is: 0.846221686321564\n",
      "RMSE for the chosen alpha through cross validation is: 0.9635438270307205\n"
     ]
    }
   ],
   "source": [
    "best_alpha_per_fold = {}\n",
    "\n",
    "for key,val in  k_fold_stats.items():\n",
    "    # print(\"Fold:\",key,\" with alphas:\",list(val.keys()))\n",
    "    best_alpha = 1e6\n",
    "    min_RMSE = 1e6\n",
    "    best_tree = None\n",
    "    for item in val:\n",
    "        # print(\"ALPHA:\",item,\" RMSE:\",val[item][0])\n",
    "        if val[item][0] < min_RMSE:\n",
    "            min_RMSE = val[item][0]\n",
    "            best_alpha = item\n",
    "            best_tree = val[item][2]\n",
    "    best_alpha_per_fold[key] = (best_alpha,min_RMSE,best_tree)\n",
    "\n",
    "\n",
    "best_tree = None\n",
    "min_RMSE = 1e6\n",
    "for key,val in best_alpha_per_fold.items():\n",
    "    if val[1] < min_RMSE:\n",
    "        min_RMSE = val[1]\n",
    "        best_tree = val[2]\n",
    "\n",
    "# print(best_alpha_per_fold)\n",
    "\n",
    "## computea mean RMSE per alphas\n",
    "\n",
    "RMSE_per_alpha = []\n",
    "RMSE_per_alpha_computed = []\n",
    "for i in range(100):\n",
    "    RMSE_per_alpha.append([])\n",
    "\n",
    "for key,val in k_fold_stats.items():\n",
    "    count = 0\n",
    "    for alpha in val:\n",
    "        RMSE_per_alpha[count] += [val[alpha][0]]\n",
    "        count += 1\n",
    "\n",
    "# print(RMSE_per_alpha)\n",
    "\n",
    "for errors in RMSE_per_alpha:\n",
    "    if len(errors) > 0:\n",
    "        RMSE_per_alpha_computed += [np.mean(errors)]\n",
    "\n",
    "# print(RMSE_per_alpha_computed)\n",
    "# print(np.argmin(np.array(RMSE_per_alpha_computed)))\n",
    "\n",
    "X_train,y_train,X_test,y_test = prepare_data()\n",
    "rules = split(X_train, y_train, 0, max_depth)\n",
    "\n",
    "\n",
    "y_predicted = X_test.apply(predict,axis='columns',rules=rules.copy())\n",
    "\n",
    "results = pd.DataFrame({\"Predicted\":y_predicted,\"Real\":y_test})\n",
    "\n",
    "\n",
    "y_predicted_np = y_predicted.to_numpy()\n",
    "y_test_np = y_test.to_numpy()\n",
    "\n",
    "RMSE_initial = RMSE(y_predicted_np,y_test_np)\n",
    "\n",
    "## predict for the best tree on the test dataset\n",
    "\n",
    "# y_predicted = X_test.apply(predict,axis='columns',rules=best_tree.copy())\n",
    "\n",
    "# results = pd.DataFrame({\"Predicted\":y_predicted,\"Real\":y_test})\n",
    "\n",
    "# y_predicted_np = y_predicted.to_numpy()\n",
    "# y_test_np = y_test.to_numpy()\n",
    "\n",
    "# RMSE_prunning = RMSE(y_predicted_np,y_test_np)\n",
    "\n",
    "\n",
    "print(\"RMSE is:\",RMSE_initial)\n",
    "print(\"RMSE for the chosen alpha through cross validation is:\",RMSE_per_alpha_computed[np.argmin(np.array(RMSE_per_alpha_computed))])\n",
    "# print(\"RMSE for the chosen alpha through cross validation is @@@@:\",RMSE_prunning)"
   ]
  },
  {
   "cell_type": "markdown",
   "metadata": {},
   "source": [
    "##### Se observa ca RMSE e mai mare pe noul tree gasit, tocmai pentru ca cel initial facea overfit"
   ]
  },
  {
   "cell_type": "markdown",
   "metadata": {},
   "source": [
    "### Values of alpha | Wine dataset"
   ]
  },
  {
   "cell_type": "code",
   "execution_count": 61,
   "metadata": {},
   "outputs": [
    {
     "data": {
      "image/png": "[encoded data removed]",
      "text/plain": [
       "<Figure size 720x576 with 1 Axes>"
      ]
     },
     "metadata": {
      "needs_background": "light"
     },
     "output_type": "display_data"
    }
   ],
   "source": [
    "\n",
    "alphas = stats.keys()\n",
    "fig = plt.figure(figsize=(10, 8))\n",
    "plt.xlabel(\"Number of cuts\")\n",
    "plt.ylabel(\"Alphas\")\n",
    "plt.scatter([i+1 for i in range(len(alphas))],alphas)\n",
    "plt.plot([i+1 for i in range(len(alphas))],alphas)\n",
    "plt.show()\n",
    "\n"
   ]
  },
  {
   "cell_type": "markdown",
   "metadata": {},
   "source": [
    "### RMSE vs alphas | Wine Dataset"
   ]
  },
  {
   "cell_type": "code",
   "execution_count": 62,
   "metadata": {},
   "outputs": [
    {
     "data": {
      "image/png": "[encoded data removed]",
      "text/plain": [
       "<Figure size 720x576 with 1 Axes>"
      ]
     },
     "metadata": {
      "needs_background": "light"
     },
     "output_type": "display_data"
    },
    {
     "data": {
      "image/png": "[encoded data removed]",
      "text/plain": [
       "<Figure size 720x576 with 1 Axes>"
      ]
     },
     "metadata": {
      "needs_background": "light"
     },
     "output_type": "display_data"
    }
   ],
   "source": [
    "\n",
    "scores = [el[0] for el in stats.values()]\n",
    "\n",
    "fig = plt.figure(figsize=(10, 8))\n",
    "plt.xlabel(\"Number of cuts\")\n",
    "plt.ylabel(\"RMSE\")\n",
    "plt.scatter([i+1 for i in range(len(scores))],scores)\n",
    "plt.plot([i+1 for i in range(len(scores))],scores)\n",
    "plt.show()\n",
    "\n",
    "## key: alpha \n",
    "## val[0] RMSE\n",
    "\n",
    "scores = [el[0] for el in stats.values()]\n",
    "\n",
    "fig = plt.figure(figsize=(10, 8))\n",
    "plt.xlabel(\"Alphas\")\n",
    "plt.ylabel(\"RMSE\")\n",
    "plt.scatter(list(stats.keys()),scores)\n",
    "plt.plot(list(stats.keys()),scores)\n",
    "plt.show()\n"
   ]
  },
  {
   "cell_type": "markdown",
   "metadata": {},
   "source": [
    "#### Se observa deci ca se pot face taieturi pentru a scadea din dimensiunea arborelui care nu cresc RMSE foarte mult ( sau chiar il scad )"
   ]
  },
  {
   "cell_type": "markdown",
   "metadata": {},
   "source": [
    "### RSS per tree"
   ]
  },
  {
   "cell_type": "code",
   "execution_count": 63,
   "metadata": {},
   "outputs": [
    {
     "data": {
      "image/png": "[encoded data removed]",
      "text/plain": [
       "<Figure size 720x576 with 1 Axes>"
      ]
     },
     "metadata": {
      "needs_background": "light"
     },
     "output_type": "display_data"
    }
   ],
   "source": [
    "RSSs = [el[1] for el in stats.values()]\n",
    "\n",
    "fig = plt.figure(figsize=(10, 8))\n",
    "plt.xlabel(\"Number of cuts\")\n",
    "plt.ylabel(\"RSS\")\n",
    "plt.scatter([i+1 for i in range(len(RSSs))],RSSs)\n",
    "plt.plot([i+1 for i in range(len(RSSs))],RSSs)\n",
    "plt.show()"
   ]
  },
  {
   "cell_type": "markdown",
   "metadata": {},
   "source": [
    "## Cars Dataset"
   ]
  },
  {
   "cell_type": "code",
   "execution_count": 64,
   "metadata": {},
   "outputs": [],
   "source": [
    "k_fold_stats = k_cross_validation(data_cars,type=\"Cars\")\n"
   ]
  },
  {
   "cell_type": "code",
   "execution_count": 65,
   "metadata": {},
   "outputs": [],
   "source": [
    "X_train,y_train,X_test,y_test = prepare_data(which=\"Cars\")\n",
    "stats = pruning_algorithm(X_train,y_train,X_test,y_test)"
   ]
  },
  {
   "cell_type": "code",
   "execution_count": 66,
   "metadata": {},
   "outputs": [
    {
     "name": "stdout",
     "output_type": "stream",
     "text": [
      "RMSE is: 0.39717813706477595\n",
      "RMSE for the chosen alpha through cross validation is: 0.400495922918828\n"
     ]
    }
   ],
   "source": [
    "best_alpha_per_fold = {}\n",
    "\n",
    "for key,val in  k_fold_stats.items():\n",
    "    # print(\"Fold:\",key,\" with alphas:\",list(val.keys()))\n",
    "    best_alpha = 1e6\n",
    "    min_RMSE = 1e6\n",
    "    best_tree = None\n",
    "    for item in val:\n",
    "        # print(\"ALPHA:\",item,\" RMSE:\",val[item][0])\n",
    "        if val[item][0] < min_RMSE:\n",
    "            min_RMSE = val[item][0]\n",
    "            best_alpha = item\n",
    "            best_tree = val[item][2]\n",
    "    best_alpha_per_fold[key] = (best_alpha,min_RMSE)\n",
    "\n",
    "\n",
    "# print(best_alpha_per_fold)\n",
    "\n",
    "## computea mean RMSE per alphas\n",
    "\n",
    "RMSE_per_alpha = []\n",
    "RMSE_per_alpha_computed = []\n",
    "for i in range(100):\n",
    "    RMSE_per_alpha.append([])\n",
    "\n",
    "for key,val in k_fold_stats.items():\n",
    "    count = 0\n",
    "    for alpha in val:\n",
    "        RMSE_per_alpha[count] += [val[alpha][0]]\n",
    "        count += 1\n",
    "\n",
    "# print(RMSE_per_alpha)\n",
    "\n",
    "for errors in RMSE_per_alpha:\n",
    "    if len(errors) > 0:\n",
    "        RMSE_per_alpha_computed += [np.mean(errors)]\n",
    "\n",
    "# print(RMSE_per_alpha_computed)\n",
    "# print(np.argmin(np.array(RMSE_per_alpha_computed)))\n",
    "\n",
    "X_train,y_train,X_test,y_test = prepare_data(which=\"Cars\")\n",
    "rules = split(X_train, y_train, 0, max_depth)\n",
    "\n",
    "\n",
    "y_predicted = X_test.apply(predict,axis='columns',rules=rules.copy())\n",
    "\n",
    "results = pd.DataFrame({\"Predicted\":y_predicted,\"Real\":y_test})\n",
    "\n",
    "results.head()\n",
    "\n",
    "y_predicted_np = y_predicted.to_numpy()\n",
    "y_test_np = y_test.to_numpy()\n",
    "\n",
    "\n",
    "print(\"RMSE is:\",RMSE(y_predicted_np,y_test_np))\n",
    "print(\"RMSE for the chosen alpha through cross validation is:\",RMSE_per_alpha_computed[np.argmin(np.array(RMSE_per_alpha_computed))])"
   ]
  },
  {
   "cell_type": "markdown",
   "metadata": {},
   "source": [
    "### Values of alpha | Car dataset"
   ]
  },
  {
   "cell_type": "code",
   "execution_count": 67,
   "metadata": {},
   "outputs": [
    {
     "data": {
      "image/png": "[encoded data removed]",
      "text/plain": [
       "<Figure size 720x576 with 1 Axes>"
      ]
     },
     "metadata": {
      "needs_background": "light"
     },
     "output_type": "display_data"
    }
   ],
   "source": [
    "\n",
    "alphas = stats.keys()\n",
    "fig = plt.figure(figsize=(10, 8))\n",
    "plt.xlabel(\"Number of cuts\")\n",
    "plt.ylabel(\"Alphas\")\n",
    "plt.scatter([i+1 for i in range(len(alphas))],alphas)\n",
    "plt.plot([i+1 for i in range(len(alphas))],alphas)\n",
    "plt.show()\n",
    "\n"
   ]
  },
  {
   "cell_type": "markdown",
   "metadata": {},
   "source": [
    "### RMSE vs number of cuts | Car Dataset"
   ]
  },
  {
   "cell_type": "code",
   "execution_count": 68,
   "metadata": {},
   "outputs": [
    {
     "data": {
      "image/png": "[encoded data removed]",
      "text/plain": [
       "<Figure size 720x576 with 1 Axes>"
      ]
     },
     "metadata": {
      "needs_background": "light"
     },
     "output_type": "display_data"
    },
    {
     "data": {
      "image/png": "[encoded data removed]",
      "text/plain": [
       "<Figure size 720x576 with 1 Axes>"
      ]
     },
     "metadata": {
      "needs_background": "light"
     },
     "output_type": "display_data"
    }
   ],
   "source": [
    "scores = [el[0] for el in stats.values()]\n",
    "\n",
    "fig = plt.figure(figsize=(10, 8))\n",
    "plt.xlabel(\"Number of cuts\")\n",
    "plt.ylabel(\"RMSE\")\n",
    "plt.scatter([i+1 for i in range(len(scores))],scores)\n",
    "plt.plot([i+1 for i in range(len(scores))],scores)\n",
    "plt.show()\n",
    "\n",
    "## key: alpha \n",
    "## val[0] RMSE\n",
    "\n",
    "scores = [el[0] for el in stats.values()]\n",
    "\n",
    "fig = plt.figure(figsize=(10, 8))\n",
    "plt.xlabel(\"Alphas\")\n",
    "plt.ylabel(\"RMSE\")\n",
    "plt.scatter(list(stats.keys()),scores)\n",
    "plt.plot(list(stats.keys()),scores)\n",
    "plt.show()\n"
   ]
  },
  {
   "cell_type": "markdown",
   "metadata": {},
   "source": [
    "### RSS per tree"
   ]
  },
  {
   "cell_type": "code",
   "execution_count": 69,
   "metadata": {},
   "outputs": [
    {
     "data": {
      "image/png": "[encoded data removed]",
      "text/plain": [
       "<Figure size 720x576 with 1 Axes>"
      ]
     },
     "metadata": {
      "needs_background": "light"
     },
     "output_type": "display_data"
    }
   ],
   "source": [
    "RSSs = [el[1] for el in stats.values()]\n",
    "\n",
    "fig = plt.figure(figsize=(10, 8))\n",
    "plt.xlabel(\"Number of cuts\")\n",
    "plt.ylabel(\"RSS\")\n",
    "plt.scatter([i+1 for i in range(len(RSSs))],RSSs)\n",
    "plt.plot([i+1 for i in range(len(RSSs))],RSSs)\n",
    "plt.show()"
   ]
  }
 ],
 "metadata": {
  "kernelspec": {
   "display_name": "Python 3.9.7 ('base')",
   "language": "python",
   "name": "python3"
  },
  "language_info": {
   "codemirror_mode": {
    "name": "ipython",
    "version": 3
   },
   "file_extension": ".py",
   "mimetype": "text/x-python",
   "name": "python",
   "nbconvert_exporter": "python",
   "pygments_lexer": "ipython3",
   "version": "3.9.7"
  },
  "orig_nbformat": 4,
  "vscode": {
   "interpreter": {
    "hash": "83fe3dded244521719d8e0d63d04655e244079fed53815cc5ecc03a8b412bee2"
   }
  }
 },
 "nbformat": 4,
 "nbformat_minor": 2
}
